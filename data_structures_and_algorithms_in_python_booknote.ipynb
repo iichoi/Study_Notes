{
 "cells": [
  {
   "cell_type": "markdown",
   "metadata": {},
   "source": [
    "# Reading notes of the book < Data Structures and Algorithms in Python>"
   ]
  },
  {
   "cell_type": "markdown",
   "metadata": {},
   "source": [
    "## Chapter 1: Python Primer"
   ]
  },
  {
   "cell_type": "code",
   "execution_count": 25,
   "metadata": {},
   "outputs": [
    {
     "name": "stdout",
     "output_type": "stream",
     "text": [
      "Welcome to the GPA calculator. Please enter all your letter grades, one per line.\n",
      "Enter a blank line to designate the end.\n",
      "A\n",
      "\n",
      "Your GPA is 4.0\n"
     ]
    }
   ],
   "source": [
    "# input() interactive example\n",
    "print( 'Welcome to the GPA calculator.','Please enter all your letter grades, one per line.' )\n",
    "#print(  )\n",
    "print( 'Enter a blank line to designate the end.' )\n",
    "# map from letter grade to point value\n",
    "points = {'A+':4.0,'A':4.0,'A-':3.67,'B+':3.33,'B':3.0, 'B-' :2.67,\n",
    "'C+' :2.33, 'C' :2.0, 'C-' :1.67, 'D+' :1.33, 'D' :1.0, 'F' :0.0}\n",
    "num_courses = 0\n",
    "total_points = 0\n",
    "done = False\n",
    "while not done:\n",
    "    grade = input( ) # read line from user\n",
    "    if grade == '': # empty line was entered\n",
    "        done = True\n",
    "    elif grade not in points: # unrecognized grade entered\n",
    "        print(\"Unknown grade {0} being ignored\".format(grade))\n",
    "    else:\n",
    "        num_courses += 1\n",
    "        total_points += points[grade]\n",
    "if num_courses > 0: # avoid division by zero\n",
    "    print('Your GPA is {0:.3}'.format(total_points / num_courses))"
   ]
  },
  {
   "cell_type": "code",
   "execution_count": null,
   "metadata": {},
   "outputs": [],
   "source": [
    "# Example of raising Error:\n",
    "def sum(values):\n",
    "    if not isinstance(values, collections.Iterable):\n",
    "        raise TypeError( parameter must be an iterable type )\n",
    "    total = 0\n",
    "    for v in values:\n",
    "        if not isinstance(v, (int, float)):\n",
    "            raise TypeError( elements must be numeric )\n",
    "        total = total+ v\n",
    "    return total"
   ]
  },
  {
   "cell_type": "code",
   "execution_count": null,
   "metadata": {},
   "outputs": [],
   "source": [
    "# Example to catch error\n",
    "try:\n",
    "    fp = open( sample.txt )\n",
    "except IOError as e:\n",
    "    print( Unable to open the file: , e)"
   ]
  },
  {
   "cell_type": "code",
   "execution_count": 33,
   "metadata": {},
   "outputs": [
    {
     "name": "stdout",
     "output_type": "stream",
     "text": [
      "enter your age:34\n"
     ]
    }
   ],
   "source": [
    "# Example to catch error W/ input()\n",
    "age = -1\n",
    "while age < 0:\n",
    "    try:                # when error happens with 'try', the rest inside try is discarded\n",
    "        age = int(input('enter your age:'))\n",
    "        if age <= 0:\n",
    "            print('your age has to be positive')\n",
    "    except(ValueError, EOFError):\n",
    "        # pass          # without printing the error msg\n",
    "        print('Invalid response')\n",
    "    #except EOFError:\n",
    "    #    print('There was an unexpected error reading input.')\n",
    "    #    raise"
   ]
  },
  {
   "cell_type": "markdown",
   "metadata": {},
   "source": [
    "### random"
   ]
  },
  {
   "cell_type": "code",
   "execution_count": 114,
   "metadata": {},
   "outputs": [],
   "source": [
    "# import random\n",
    "# random.shuffle(list0)\n",
    "# random.choice(list0)\n",
    "# random.randrange(0,100,5)\n",
    "# random.random()"
   ]
  },
  {
   "cell_type": "markdown",
   "metadata": {},
   "source": [
    "### iterator"
   ]
  },
  {
   "cell_type": "code",
   "execution_count": 56,
   "metadata": {},
   "outputs": [
    {
     "data": {
      "text/plain": [
       "120"
      ]
     },
     "execution_count": 56,
     "metadata": {},
     "output_type": "execute_result"
    }
   ],
   "source": [
    "generator1 = (i for i in range(1,100,5))\n",
    "list1 = [i for i in range(1,100,5)]\n",
    "import sys\n",
    "sys.getsizeof(generator1) # advantage of iterator is the memory consumes"
   ]
  },
  {
   "cell_type": "code",
   "execution_count": 74,
   "metadata": {},
   "outputs": [],
   "source": [
    "def generator2(n):\n",
    "    for i in range(1,n,5):\n",
    "        yield i\n",
    "        sys.getsizeof(generator2(100))"
   ]
  },
  {
   "cell_type": "markdown",
   "metadata": {},
   "source": [
    "### comprehension"
   ]
  },
  {
   "cell_type": "markdown",
   "metadata": {},
   "source": [
    "##### [k*k for k in range(1, n+1) ] list comprehension\n",
    "##### {k*k for k in range(1, n+1) } set comprehension\n",
    "##### (k*k for k in range(1, n+1) ) generator comprehension\n",
    "##### {k:k*k for k in range(1, n+1) } dictionary comprehension"
   ]
  },
  {
   "cell_type": "code",
   "execution_count": 76,
   "metadata": {},
   "outputs": [],
   "source": [
    "# auto pack & unpack\n",
    "# return x,y --> (x,y)\n",
    "# a,b = (1,2)\n",
    "# a, b, c, d = range(7, 11)\n",
    "# for x, y in [ (7, 2), (5, 8), (6, 4) ]:\n",
    "# for k, v in mapping.items():\n",
    "# a,b = b,a\n",
    "def fibonacci( ):\n",
    "    a, b = 0, 1\n",
    "    while True:\n",
    "        yield a\n",
    "    a, b = b, a+b"
   ]
  },
  {
   "cell_type": "code",
   "execution_count": 82,
   "metadata": {},
   "outputs": [
    {
     "data": {
      "text/plain": [
       "[0, 2, 4, 6, 8]"
      ]
     },
     "execution_count": 82,
     "metadata": {},
     "output_type": "execute_result"
    }
   ],
   "source": [
    "list0"
   ]
  },
  {
   "cell_type": "code",
   "execution_count": 100,
   "metadata": {},
   "outputs": [],
   "source": [
    "# check instance exist in current scopt\n",
    "dir()\n",
    "# check name space under the usage of the object\n",
    "dir(list0)"
   ]
  },
  {
   "cell_type": "code",
   "execution_count": 95,
   "metadata": {},
   "outputs": [],
   "source": [
    "# check name space dictionary\n",
    "vars()"
   ]
  },
  {
   "cell_type": "code",
   "execution_count": 102,
   "metadata": {},
   "outputs": [],
   "source": [
    "def check(n):\n",
    "    return n+5"
   ]
  },
  {
   "cell_type": "code",
   "execution_count": 103,
   "metadata": {},
   "outputs": [],
   "source": [
    "check_f = check"
   ]
  },
  {
   "cell_type": "code",
   "execution_count": 105,
   "metadata": {},
   "outputs": [
    {
     "data": {
      "text/plain": [
       "9"
      ]
     },
     "execution_count": 105,
     "metadata": {},
     "output_type": "execute_result"
    }
   ],
   "source": [
    "check_f(4)"
   ]
  },
  {
   "cell_type": "code",
   "execution_count": null,
   "metadata": {},
   "outputs": [],
   "source": []
  },
  {
   "cell_type": "code",
   "execution_count": null,
   "metadata": {},
   "outputs": [],
   "source": []
  },
  {
   "cell_type": "markdown",
   "metadata": {},
   "source": [
    "## Chapter 2: OOP"
   ]
  },
  {
   "cell_type": "code",
   "execution_count": 1,
   "metadata": {},
   "outputs": [],
   "source": [
    "class CreditCard:\n",
    "    \"\"\"a customer credit card\n",
    "    The initial balance is zero.\n",
    "    \"\"\"\n",
    "    \n",
    "    def __init__(self, customer, bank, acnt, limit):\n",
    "        \"\"\"create a card\"\"\"\n",
    "        self._customer = customer\n",
    "        self._bank = bank\n",
    "        self._acnt = acnt\n",
    "        self._limit = limit\n",
    "        self._balance = 0\n",
    "        \n",
    "    def get_customer(self):\n",
    "        return self._customer\n",
    "    \n",
    "    def get_bank(self):\n",
    "        return self._bank\n",
    "    \n",
    "    def get_account(self):\n",
    "        return self._acnt\n",
    "    \n",
    "    def get_limit(self):\n",
    "        return self._limit\n",
    "    \n",
    "    def get_balance(self):\n",
    "        return self._balance\n",
    "    \n",
    "    def charge(self, price):\n",
    "        if price + self._balance > self._limit:\n",
    "            return False\n",
    "        else:\n",
    "            self._balance += price\n",
    "            return True\n",
    "    def make_payment(self, amount):\n",
    "        self._balance-=amount\n"
   ]
  },
  {
   "cell_type": "code",
   "execution_count": 225,
   "metadata": {},
   "outputs": [],
   "source": [
    "# subclass\n",
    "class PredatoryCreditCard(CreditCard):\n",
    "    \"\"\"an extention to credit card\"\"\"\n",
    "    def __init__(self, customer, bank, acnt, limit, apr):\n",
    "        super().__init__(customer, bank, acnt, limit)\n",
    "        self._apr = apr\n",
    "    \n",
    "    def charge(self, price):\n",
    "        \"\"\"over write charge\"\"\"\n",
    "        success = super().charge(price)\n",
    "        if not success:\n",
    "            self._balance += 5\n",
    "        return success\n",
    "    \n",
    "    def process_month(self):\n",
    "        if self._balance > 0:\n",
    "            monthly_factor = pow(1+self._apr, 1/12)\n",
    "            self._balance *= monthly_factor"
   ]
  },
  {
   "cell_type": "code",
   "execution_count": 31,
   "metadata": {},
   "outputs": [
    {
     "name": "stdout",
     "output_type": "stream",
     "text": [
      "Customer = John Bowman\n",
      "Bank = California Savings\n",
      "Account = 5391 0375 9387 5309\n",
      "Limit = 2500\n",
      "Balance = 136\n",
      "New balance = 36\n",
      "\n",
      "Customer = John Bowman\n",
      "Bank = California Federal\n",
      "Account = 3485 0399 3395 1954\n",
      "Limit = 3500\n",
      "Balance = 272\n",
      "New balance = 172\n",
      "New balance = 72\n",
      "\n",
      "Customer = John Bowman\n",
      "Bank = California Finance\n",
      "Account = 5391 0375 9387 5309\n",
      "Limit = 5000\n",
      "Balance = 408\n",
      "New balance = 308\n",
      "New balance = 208\n",
      "New balance = 108\n",
      "New balance = 8\n",
      "\n"
     ]
    }
   ],
   "source": [
    "# Testing in the Class Module\n",
    "if __name__ == '__main__' :\n",
    "    wallet = [ ]\n",
    "    wallet.append(CreditCard('John Bowman','California Savings','5391 0375 9387 5309', 2500) )\n",
    "    wallet.append(CreditCard('John Bowman','California Federal','3485 0399 3395 1954', 3500) )\n",
    "    wallet.append(CreditCard('John Bowman','California Finance','5391 0375 9387 5309', 5000) )\n",
    "\n",
    "    for val in range(1, 17):\n",
    "        wallet[0].charge(val)\n",
    "        wallet[1].charge(2*val)\n",
    "        wallet[2].charge(3*val)\n",
    "\n",
    "    for c in range(3):\n",
    "        print('Customer =', wallet[c].get_customer( ))\n",
    "        print('Bank =', wallet[c].get_bank())\n",
    "        print('Account =', wallet[c].get_account( ))\n",
    "        print('Limit =', wallet[c].get_limit( ))\n",
    "        print('Balance =', wallet[c].get_balance())\n",
    "        while wallet[c].get_balance( ) > 100:\n",
    "            wallet[c].make_payment(100)\n",
    "            print('New balance =', wallet[c].get_balance())\n",
    "        print( )"
   ]
  },
  {
   "cell_type": "markdown",
   "metadata": {},
   "source": [
    "operator overload example"
   ]
  },
  {
   "cell_type": "code",
   "execution_count": 197,
   "metadata": {},
   "outputs": [],
   "source": [
    "class Vector():\n",
    "    \n",
    "    def __init__(self, d=5):\n",
    "        \"\"\"create a d dimentional vector filled with value 0\"\"\"\n",
    "        self._coords = [0]*d\n",
    "    \n",
    "    def __len__(self):\n",
    "        \"\"\"return the dimention of the vector\"\"\"\n",
    "        return len(self._coords)\n",
    "    \n",
    "    def __getitem__(self, j):\n",
    "        \"\"\"return jth coordinate of the vector\"\"\"\n",
    "        return self._coords[j]\n",
    "    \n",
    "    def __setitem__(self, j, val):\n",
    "        \"\"\"set jth coordinate to val\"\"\"\n",
    "        self._coords[j] = val\n",
    "    \n",
    "    def __add__(self, other):\n",
    "        \"\"\"return sum of two vectors\"\"\"\n",
    "        result = Vector(len(self))\n",
    "        if len(self) == len(other):\n",
    "            for i in range(len(self)):\n",
    "                result._coords[i] = self._coords[i] + other._coords[i]\n",
    "        else:\n",
    "            raise ValueError('dimensions must in the same length')\n",
    "        return result._coords\n",
    "    \n",
    "    def __eq__(self, other):\n",
    "        \"\"\"return True if vector has the same coordinate as other\"\"\"\n",
    "        return self._coords == other._coords\n",
    "    \n",
    "    def __ne__(self, other):\n",
    "        \"\"\"return True if vector differ from other\"\"\"\n",
    "        return not self == other\n",
    "    \n",
    "    def __str__(self):\n",
    "        return \"<\"+str(self._coords)[1:-1]+\">\""
   ]
  },
  {
   "cell_type": "code",
   "execution_count": 277,
   "metadata": {},
   "outputs": [],
   "source": [
    "class SequenceIterator:\n",
    "    \"\"\"An iterator for any of Python s sequence types.\"\"\"\n",
    "    def __init__(self, sequence):\n",
    "        \"\"\"Create an iterator for the given sequence.\"\"\"\n",
    "        self._seq = sequence # keep a reference to the underlying data\n",
    "        self._k = -1 # will increment to 0 on first call to next\n",
    "\n",
    "    def __next__(self):\n",
    "        \"\"\"Return the next element, or else raise StopIteration error.\"\"\"\n",
    "        self._k += 1 # advance to next index\n",
    "        if self._k < len(self._seq):\n",
    "            return(self._seq[self._k]) # return the data element\n",
    "        else:\n",
    "            raise StopIteration( ) # there are no more elements\n",
    "\n",
    "    def __iter__(self):\n",
    "        \"\"\"By convention, an iterator must return itself as an iterator.\"\"\"\n",
    "        return self"
   ]
  },
  {
   "cell_type": "markdown",
   "metadata": {},
   "source": [
    "## Chapter 3: Algorithm Analysis"
   ]
  },
  {
   "cell_type": "code",
   "execution_count": null,
   "metadata": {},
   "outputs": [],
   "source": [
    "# recording algorithm time\n",
    "from time import time\n",
    "start_time = time()\n",
    "\n",
    "end_time = time()\n",
    "elapsed = end_time -  start_time"
   ]
  },
  {
   "cell_type": "markdown",
   "metadata": {},
   "source": [
    "seven functions:\n",
    "*constant  *logarithm  *linear  *n-log-n  quadratic  cubic  exponential\n",
    "1           log n       n        nlog n   n2         n3     a**n"
   ]
  },
  {
   "cell_type": "markdown",
   "metadata": {},
   "source": [
    "## Chapter 4: Recursion"
   ]
  },
  {
   "cell_type": "code",
   "execution_count": 286,
   "metadata": {},
   "outputs": [],
   "source": [
    "# n!\n",
    "def factorial(n):\n",
    "    if n == 0:\n",
    "        return 1\n",
    "    else:\n",
    "        return n*factorial(n-1)"
   ]
  },
  {
   "cell_type": "code",
   "execution_count": 312,
   "metadata": {},
   "outputs": [],
   "source": [
    "# binary search\n",
    "def binary_search(data, target, low, high):\n",
    "    \"\"\"Return True if target is found in indicated portion of a Python list.\"\"\"\n",
    "    if low > high:\n",
    "        return False\n",
    "    else:\n",
    "        mid = (low + high) //2\n",
    "        if target == data[mid]:\n",
    "            return True\n",
    "        elif target < data[mid]:\n",
    "            return binary_search(data, target, low, mid-1)\n",
    "        else:\n",
    "            return binary_search(data, target, mid+1, high)"
   ]
  },
  {
   "cell_type": "code",
   "execution_count": 415,
   "metadata": {},
   "outputs": [],
   "source": [
    "# disk story calculator with os package\n",
    "# os.path.dirname # os.path.abspath # os.path.join # os.path.isdir # os.path.getsize\n",
    "import os\n",
    "def disk_usage(path):\n",
    "    total_usage = os.path.getsize(path)\n",
    "    if os.path.isdir(path):\n",
    "        for file in os.listdir(path):\n",
    "            child_path = os.path.join(path,file) \n",
    "            total_usage += disk_usage(child_path)\n",
    "    print(str({}).format(total_usage),'b:', path)\n",
    "    return total_usage"
   ]
  },
  {
   "cell_type": "code",
   "execution_count": 417,
   "metadata": {},
   "outputs": [
    {
     "data": {
      "text/plain": [
       "3000"
      ]
     },
     "execution_count": 417,
     "metadata": {},
     "output_type": "execute_result"
    }
   ],
   "source": [
    "import sys\n",
    "sys.getrecursionlimit()\n",
    "# sys.setresursionlimit(10000)"
   ]
  },
  {
   "cell_type": "code",
   "execution_count": 432,
   "metadata": {},
   "outputs": [],
   "source": [
    "def power(x, n):\n",
    "    if n == 0:\n",
    "        return 1\n",
    "    else:\n",
    "        return power(x, n-1)*x\n",
    "    \n",
    "def faster_power(x,n):\n",
    "    if n == 0:\n",
    "        return 1\n",
    "    else:\n",
    "        partial = power(x,n//2)\n",
    "        result = partial**2\n",
    "        if n%2==1:\n",
    "             result *= x\n",
    "        return result"
   ]
  },
  {
   "cell_type": "markdown",
   "metadata": {},
   "source": [
    "## Chapter 5: Sequence\n",
    "Sequence class: list, tuple, string"
   ]
  },
  {
   "cell_type": "code",
   "execution_count": null,
   "metadata": {},
   "outputs": [],
   "source": [
    "# shallow copy\n",
    "list1 = copy.copy(list0) | list1 = list0\n",
    "# deep copy\n",
    "list1 = list(list0)  | list1 = copy.deepcopy(list0)   # use 'is'/'is not' syntax can test deepcopy\n",
    "# get number of bytes of an object\n",
    "sys.getsizeof(object_n)\n",
    "# list(str)  # ''.join(list)\n",
    "# ord()   # chr()"
   ]
  },
  {
   "cell_type": "code",
   "execution_count": 556,
   "metadata": {},
   "outputs": [],
   "source": [
    "# Insertion-Sort Algorithm\n",
    "def insertion_sort(A):\n",
    "    \"\"\"given a list of A return the ascending list\"\"\"\n",
    "    for i in range(1, len(A)):\n",
    "        j = i\n",
    "        cur_value = A[i]\n",
    "        while A[j-1] > cur_value and j > 0:\n",
    "            A[j] = A[j-1]\n",
    "            j -= 1\n",
    "        A[j] = cur_value\n",
    "    return A"
   ]
  },
  {
   "cell_type": "code",
   "execution_count": 619,
   "metadata": {},
   "outputs": [],
   "source": [
    "# cryptography\n",
    "class CaesarCipher:\n",
    "    \"\"\"Class for encoding and decoding with a Caesar chipher\"\"\"\n",
    "    def __init__(self, shift):\n",
    "        encoder = [None]*26\n",
    "        decoder = [None]*26\n",
    "        for i in range(26):\n",
    "            encoder[i] = chr((ord('A') + (i + shift) % 26))\n",
    "            decoder[i] = chr((ord('A') + (i - shift) % 26))\n",
    "        self._forward = ''.join(encoder)\n",
    "        self._backward = ''.join(decoder)\n",
    "    \n",
    "    def encrypt(self, message):\n",
    "        return self._transform(message, self._forward)\n",
    "    \n",
    "    def decrypt(self, code):\n",
    "        return self._transform(code, self._backward)\n",
    "    \n",
    "    def _transform(self, original, code):\n",
    "        msg = list(original.upper())\n",
    "        for k in range(len(msg)):\n",
    "            if msg[k].isupper():\n",
    "                j = ord(msg[k]) - ord('A')\n",
    "                msg[k] = code[j]\n",
    "        return ''.join(msg)"
   ]
  },
  {
   "cell_type": "code",
   "execution_count": 644,
   "metadata": {},
   "outputs": [],
   "source": [
    "# multi-dimentional sequence\n",
    "# wrong, referential problem: data = [[0]*col_num]*row_num \n",
    "data = [[0]*5 for j in range(2)]"
   ]
  },
  {
   "cell_type": "markdown",
   "metadata": {},
   "source": [
    "## Chapter 6: Stacks, Queues, and Deques"
   ]
  },
  {
   "cell_type": "markdown",
   "metadata": {},
   "source": [
    "### Stack - last-in, first-out (LIFO)"
   ]
  },
  {
   "cell_type": "code",
   "execution_count": 710,
   "metadata": {},
   "outputs": [],
   "source": [
    "# build a Stack class with python list for data storage # LIFO protocol\n",
    "# add subclass to Exception class for exhausion of stack\n",
    "\n",
    "class Empty(Exception):\n",
    "    \"\"\"Error attempting to access an element from an empty stack.\"\"\"\n",
    "    pass\n",
    "\n",
    "class ArrayStack:\n",
    "    \"\"\"Python list based stack\"\"\"\n",
    "    def __init__(self):\n",
    "        \"\"\"create an ArrayStack object\"\"\"\n",
    "        self._data = []\n",
    "        \n",
    "    def __len__(self):\n",
    "        \"\"\"over write length function\"\"\"\n",
    "        return len(self._data)\n",
    "    \n",
    "    def is_empty(self):\n",
    "        \"\"\"return boolean\"\"\"\n",
    "        return len(self._data) == 0\n",
    "    \n",
    "    def push(self, e):\n",
    "        \"\"\"add e to the top of the stack\"\"\"\n",
    "        self._data.append(e)\n",
    "\n",
    "    def top(self):\n",
    "        \"\"\"return the element on top of the stack\"\"\"\n",
    "        if self.is_empty == True:\n",
    "            raise Empty('Stack is empty')\n",
    "        else:\n",
    "            return self._data[-1]\n",
    "    \n",
    "    def pop(self):\n",
    "        \"\"\"remove and return the element on top of the stack\"\"\"\n",
    "        if self.is_empty == True:\n",
    "            raise Empty('Stack is empty')\n",
    "        else:\n",
    "            return self._data.pop()"
   ]
  },
  {
   "cell_type": "code",
   "execution_count": 756,
   "metadata": {},
   "outputs": [],
   "source": [
    "# use Stack to reverse txt order\n",
    "def reverse_text_file(txt_file):\n",
    "    \"\"\"over write text file in reversion\"\"\"\n",
    "    S = ArrayStack()\n",
    "    file = open(txt_file)\n",
    "    for line in file:\n",
    "        S.push(line.rstrip('\\n'))\n",
    "    file.close()\n",
    "    \n",
    "    reverse_file = open(txt_file, 'w')\n",
    "    while not S.is_empty():\n",
    "        reverse_file.write(S.pop()+'\\n')\n",
    "    reverse_file.close()"
   ]
  },
  {
   "cell_type": "code",
   "execution_count": 778,
   "metadata": {},
   "outputs": [],
   "source": [
    "# use Stack to match parentheses & HTML delimiter\n",
    "def is_matched(expr):\n",
    "    \"\"\"out put True is the delimiters in the input expression matched\"\"\"\n",
    "    lefty = '({['\n",
    "    righty = ')}]'\n",
    "    S = ArrayStack()\n",
    "    for i in expr:\n",
    "        if i in lefty:\n",
    "            S.push(i)\n",
    "        elif i in righty:\n",
    "            if S.is_empty():\n",
    "                return False\n",
    "            elif lefty[righty.index(i)] != S.pop():\n",
    "                return False\n",
    "    return S.is_empty()    "
   ]
  },
  {
   "cell_type": "markdown",
   "metadata": {},
   "source": [
    "### Queue  - first-in, first-out (FIFO)"
   ]
  },
  {
   "cell_type": "code",
   "execution_count": 850,
   "metadata": {},
   "outputs": [],
   "source": [
    "# circular FIFO \n",
    "class Empty(Exception):\n",
    "    \"\"\"Error attempting to access an element from an empty stack.\"\"\"\n",
    "    pass\n",
    "\n",
    "class ArrayQueue:\n",
    "    DEFAULT_CAPACITY = 10\n",
    "    def __init__(self):\n",
    "        self._data = [None]*ArrayQueue.DEFAULT_CAPACITY\n",
    "        self._size = 0\n",
    "        self._front = 0   # index of the first element \n",
    "    \n",
    "    def __len__(self):\n",
    "        return self._size\n",
    "    \n",
    "    def is_empty(self):\n",
    "        return self._size == 0\n",
    "    \n",
    "    def first(self):\n",
    "        if self._size == 0:\n",
    "            raise Empty('Queue is empty')\n",
    "        else:\n",
    "            return self._data[self._front]\n",
    "    \n",
    "    def dequeue(self):\n",
    "        \"\"\"remove and return the first value\"\"\"\n",
    "        if self.is_empty():\n",
    "            raise Empty('Queue is empty')\n",
    "        else:\n",
    "            first_value = self._data[self._front]\n",
    "            self._data[self._front] = None\n",
    "            self._size -= 1           \n",
    "            self._front = (self._front + 1)%len(self._data)\n",
    "            return first_value\n",
    "    \n",
    "    def _resize(self, new_size):\n",
    "        \"\"\"expend the list\"\"\"\n",
    "        old_queue = self._data\n",
    "        self._data = [None]*new_size\n",
    "        walk = self._front\n",
    "        for i in range(self._size):\n",
    "            self._data[i] = old_queue[walk]\n",
    "            walk = (walk + 1) % len(old_queue)\n",
    "        self.front = 0  \n",
    "          \n",
    "    def enqueue(self, e):\n",
    "        \"\"\"add an element to the end of the queue\"\"\"\n",
    "        if self._size == len(self._data): \n",
    "            self._resize(2 * len(self._data))\n",
    "        next_slot = (self._front + self._size) % len(self._data)\n",
    "        self._data[next_slot] = e\n",
    "        self._size +=1"
   ]
  },
  {
   "cell_type": "code",
   "execution_count": 808,
   "metadata": {},
   "outputs": [],
   "source": [
    "# python model collections.deque provide deque functions"
   ]
  },
  {
   "cell_type": "markdown",
   "metadata": {},
   "source": [
    "## Chapter 7: Linked List"
   ]
  },
  {
   "cell_type": "markdown",
   "metadata": {},
   "source": [
    "### Singular Linked List - stack"
   ]
  },
  {
   "cell_type": "code",
   "execution_count": 909,
   "metadata": {},
   "outputs": [],
   "source": [
    "# ------------  similar to last in first out \n",
    "class LinkedList:\n",
    "    \n",
    "# ------------  nested _Node class \n",
    "    class _Node:   \n",
    "        \"\"\"Lightweight nonpublic class for storing a singly linked node.\"\"\"\n",
    "        __slot__ = \"_element\", \"_next\"\n",
    "    \n",
    "        def __init__(self, element, next):\n",
    "            self._element = element\n",
    "            self._next = next\n",
    "\n",
    "# ------------  stack methods  \n",
    "    def __init__(self):\n",
    "        \"\"\"create empty stack\"\"\"\n",
    "        self._head = None\n",
    "        self._size = 0\n",
    "        \n",
    "    def __len__(self):\n",
    "        return self._size\n",
    "    \n",
    "    def is_empty(self):\n",
    "        return self._size == 0\n",
    "    \n",
    "    def push(self, e):\n",
    "        \"\"\"Add element e to the top of the stack.\"\"\"\n",
    "        self._head = self._Node(e, self._head)\n",
    "        self._size += 1\n",
    "        \n",
    "    def top(self):\n",
    "        \"\"\"return but not remove the top element of the stack\"\"\"\n",
    "        if self._size == 0:\n",
    "            raise Empty(\"Stack is empty\")\n",
    "        return self._head._element\n",
    "    \n",
    "    def pop(self):\n",
    "        \"\"\"remove and return the top element of the stack\"\"\"\n",
    "        if self._size == 0:\n",
    "            raise Empty(\"Stack is empty\")\n",
    "        answer = self._head._element\n",
    "        self._head = self._head._next\n",
    "        self._size -= 1\n",
    "        return answer      "
   ]
  },
  {
   "cell_type": "markdown",
   "metadata": {},
   "source": [
    "### Singular Linked List - FIFO"
   ]
  },
  {
   "cell_type": "code",
   "execution_count": 947,
   "metadata": {},
   "outputs": [],
   "source": [
    "class LinkedQueue:\n",
    "    \"\"\"FIFO queue implementation using a singly linked list for storage.\"\"\"\n",
    "    \n",
    "# ------------  nested _Node class \n",
    "    class _Node:   \n",
    "        \"\"\"Lightweight nonpublic class for storing a singly linked node.\"\"\"\n",
    "        __slot__ = \"_element\", \"_next\"\n",
    "    \n",
    "        def __init__(self, element, next):\n",
    "            self._element = element\n",
    "            self._next = next\n",
    "\n",
    "# ------------  stack methods\n",
    "    def __init__(self):\n",
    "        \"\"\"create an empty queue\"\"\"\n",
    "        self._head = None\n",
    "        self._tail = None\n",
    "        self._size = 0\n",
    "        \n",
    "    def __len__(self):\n",
    "        return self._size\n",
    "    \n",
    "    def is_empty(self):\n",
    "        return self._size == 0\n",
    "    \n",
    "    def first(self):\n",
    "        \"\"\"Return (but do not remove) the element at the front of the queue.\"\"\"\n",
    "        if self._size == 0:\n",
    "            raise Empty(\"Queue is empty\")\n",
    "        return self._head._element\n",
    "        \n",
    "    def dequeue(self):\n",
    "        \"\"\"Remove and return the first element of the queue\"\"\"\n",
    "        if self._size == 0:\n",
    "            raise Empty(\"Queue is empty\")\n",
    "        answer = self._head._element\n",
    "        self._head = self._head._next\n",
    "        self._size -= 1\n",
    "        if self._size == 0:\n",
    "            self._tail = None\n",
    "        return answer\n",
    "    \n",
    "    def enqueue(self, e):\n",
    "        \"\"\"Add an element to the back of queue.\"\"\"\n",
    "        new_node = _Node(e, None)\n",
    "        if self.is_empty():\n",
    "            self._head = new_node\n",
    "        else:\n",
    "            self._tail._next = new_node\n",
    "        self._tail = new_node\n",
    "        self._size += 1     "
   ]
  },
  {
   "cell_type": "markdown",
   "metadata": {},
   "source": [
    "### Circular LinkedList"
   ]
  },
  {
   "cell_type": "code",
   "execution_count": 952,
   "metadata": {},
   "outputs": [],
   "source": [
    "class CircularQueue:\n",
    "    \"\"\"Queue implementation using circularly linked list for storage\"\"\"\n",
    "    \n",
    "    # ------------  nested _Node class \n",
    "    class _Node:   \n",
    "        \"\"\"Lightweight nonpublic class for storing a singly linked node.\"\"\"\n",
    "        __slot__ = \"_element\", \"_next\"\n",
    "    \n",
    "        def __init__(self, element, next):\n",
    "            self._element = element\n",
    "            self._next = next\n",
    "    \n",
    "    def __init__(self):\n",
    "        self._tail = None\n",
    "        self._size = 0\n",
    "        \n",
    "    def __len__(self):\n",
    "        return self._size\n",
    "    \n",
    "    def is_empty(self):\n",
    "        return self._size == 0\n",
    "    \n",
    "    def first(self):\n",
    "        \"\"\"Return (but do not remove) the element at the front of the queue.\"\"\"\n",
    "        if self._size == 0:\n",
    "            raise Empty(\"queue is empty\")\n",
    "        return self._tail._next._element\n",
    "    \n",
    "    def dequeue(self):\n",
    "        \"\"\"Remove and return the first element of the queue FIFO\"\"\"\n",
    "        if self._size == 0:\n",
    "            raise Empty(\"queue is empty\")\n",
    "        old_head_node = self._tail._next\n",
    "        if self._size == 1:\n",
    "            self._tail = None\n",
    "        else:\n",
    "            self._tail._next = old_head_node.next\n",
    "        self._size -= 1\n",
    "        return old_head_node._element\n",
    "    \n",
    "    def enqueue(self):\n",
    "        \"\"\"Add an element to the back of queue\"\"\"\n",
    "        new_node = _Node(e, None)\n",
    "        if self.is_empty:\n",
    "            new_node._next = new_node  # initialize circularly\n",
    "        else:\n",
    "            new_node._next = self._tail._next\n",
    "            self._tail.next = new_node\n",
    "            self._tail = new_node\n",
    "        self._size +=1\n",
    "    \n",
    "    def rotate(self):\n",
    "        \"\"\"rotate tail to next node\"\"\"\n",
    "        if self._size > 1:\n",
    "            self._tail = self._tail._next         "
   ]
  },
  {
   "cell_type": "markdown",
   "metadata": {},
   "source": [
    "### doubly linked list"
   ]
  },
  {
   "cell_type": "code",
   "execution_count": 961,
   "metadata": {},
   "outputs": [],
   "source": [
    "class DoublyLinkedBase:\n",
    "    \"\"\"A base class providing a doubly linked list representation\"\"\"\n",
    "    \n",
    "# ------------  nested _Node class \n",
    "    class _Node:   \n",
    "        \"\"\"Lightweight nonpublic class for storing a singly linked node.\"\"\"\n",
    "        __slot__ = \"_element\", \"_prev\", \"_next\"   # streamline memory\n",
    "    \n",
    "        def __init__(self, element, prev, next):\n",
    "            self._element = element\n",
    "            self._next = next\n",
    "            self._prev = prev\n",
    "    \n",
    "    def __init__(self):\n",
    "        \"\"\"Create an empty list.\"\"\"\n",
    "        self._header = self._Node(None, None, None)\n",
    "        self._trailer = self._Node(None, None, None)\n",
    "        self._header._next = self._trailer\n",
    "        self._trailer._prev = self._header\n",
    "        self._size = 0\n",
    "        \n",
    "    def __len__(self):\n",
    "        return self._size\n",
    "    \n",
    "    def is_empty(self):\n",
    "        return self._size == 0\n",
    "    \n",
    "    def _insert_betweeen(self, e, predecessor, successor):\n",
    "        \"\"\"Add element e between two existing nodes and return new node\"\"\"\n",
    "        insert_node = self._Node(e, predecessor, successor)\n",
    "        predecessor._next = insert_node\n",
    "        successor._prev = insert_node\n",
    "        self._size += 1\n",
    "        return insert_node._element\n",
    "    \n",
    "    def _delete_node(self, node):\n",
    "        \"\"\"Delete nonsentinel node from the list and return its element.\"\"\"\n",
    "        predecessor = node._prev\n",
    "        successor = node._next\n",
    "        predecessor._next = successor\n",
    "        successor._prev = predecessor\n",
    "        self._size -= 1\n",
    "        element = node. element\n",
    "        node._prev = node._next = node._element = None # deprecated node\n",
    "        return _element\n",
    "    \n",
    "#-----------\n",
    "class LinkedDeque(DoublyLinkedBase):\n",
    "    \"\"\"Double-ended queue implementation based on a doubly linked list.\"\"\"\n",
    "    \n",
    "    def first(self):\n",
    "        \"Return (but do not remove) the element at the front of the deque\"\n",
    "        if self.is_empty:\n",
    "            raise Empty\n",
    "        return self._header._next._element\n",
    "    \n",
    "    def last(self):\n",
    "        \"Return (but do not remove) the element at the last of the deque\"\n",
    "        if self.is_empty:\n",
    "            raise Empty\n",
    "        return self._trailer._prev._element\n",
    "    \n",
    "    def insert_first(self, e):\n",
    "        \"\"\"”””Add an element to the front of the deque.\"\"\"\n",
    "        self.insert_between(e, self._header, self._header._next)\n",
    "    \n",
    "    def insert_last(self, e):\n",
    "        \"\"\"Add an element to the back of the deque.\"\"\"\n",
    "        self.insert_between(e, self._trailer._prev, self._trailer)\n",
    "        \n",
    "    def delete_first(self):\n",
    "        \"\"\"Remove and return the element from the front of the deque.\"\"\"\n",
    "        if self.is_empty:\n",
    "            raise Empty\n",
    "        return self._delete_node(self._header._next)\n",
    "        \n",
    "    def delete_last(self):\n",
    "        if self.is_empty:\n",
    "            raise Empty\n",
    "        return self._delete_node(self._trailer._prev)     "
   ]
  },
  {
   "cell_type": "markdown",
   "metadata": {},
   "source": [
    "### The Positional List Abstract Data Type"
   ]
  },
  {
   "cell_type": "code",
   "execution_count": null,
   "metadata": {},
   "outputs": [],
   "source": [
    " # - TBD Chapeter 7.4.2\n",
    "class PositionalList(DoublyLinkedBase):\n",
    "    \"\"\"A sequential container of elements allowing positional access\"\"\"\n",
    "    \n",
    "    # ------------  nested _Node class \n",
    "    class Position:\n",
    "        \"\"\"An abstraction representing the location of a single element.\"\"\"\n",
    "        \n",
    "        def __init__(self, container, node):\n",
    "            \"\"\"Constructor should not be invoked by user.\"\"\"\n",
    "            self._container = container\n",
    "            self._node = node\n",
    "            \n",
    "        def element(self):\n",
    "            \"\"\"Return the element stored at this Position.\"\"\"\n",
    "            return self._node._element\n",
    "        \n",
    "        def __eq__(self, other):\n",
    "            \"\"\"Return True if other is a Position representing the same location\"\"\"\n",
    "            return type(other) is type(self) and other._node is self._node\n",
    "        \n",
    "        def __ne__(self, other):\n",
    "            \"\"\"Return True if other does not represent the same location\"\"\"\n",
    "            return not (self == other)    # opposite of __eq__\n",
    "        \n",
    "     # ------------  utility method \n",
    "    def _validate(self, p):\n",
    "        \"\"\"Return position's node, or raise appropriate error if invalid.\"\"\"\n",
    "        if not isinstance(p, self.Position):\n",
    "            raise TypeError(\"p must be proper Position type\")\n",
    "        if p._container is not self:\n",
    "            raise ValueError(\"p does not belong to this container\")\n",
    "        if p._node._next is None:\n",
    "            raise ValueError(\"p is no longer valid\")\n",
    "        return p._node\n",
    "..."
   ]
  },
  {
   "cell_type": "markdown",
   "metadata": {},
   "source": [
    "## Chapter 8: Trees"
   ]
  },
  {
   "cell_type": "markdown",
   "metadata": {},
   "source": [
    "### Abstract base calss"
   ]
  },
  {
   "cell_type": "code",
   "execution_count": 962,
   "metadata": {},
   "outputs": [],
   "source": [
    "class Tree:\n",
    "    \"\"\"Abstract base class representing a tree structure.\"\"\"\n",
    "    \n",
    "    #------------------------------- nested Position class -------------------------------\n",
    "    class Position:\n",
    "        \"\"\"An abstraction representing the location of a single element.\"\"\"\n",
    "        \n",
    "        def element(self):\n",
    "            \"\"\"return element stored in this position\"\"\"\n",
    "            raise NotImplementedError('must be implemented by subclass')\n",
    "            \n",
    "        def __eq__(self, other):\n",
    "            \"\"\"Return True if other Position represents the same location.\"\"\"\n",
    "            raise NotImplementedError('must be implemented by subclass')\n",
    "            \n",
    "        def __ne__(self, other):\n",
    "            \"\"\"Return True if other does not represent the same location.\"\"\"\n",
    "            return self != other\n",
    "        \n",
    "    # ---------- abstract methods that concrete subclass must support ----------\n",
    "    def root(self):\n",
    "        \"\"\"Return Position representing the tree s root (or None if empty).\"\"\"\n",
    "        raise NotImplementedError('must be implemented by subclass')\n",
    "    \n",
    "    def parent(self, p):\n",
    "        \"\"\"Return Position representing p s parent (or None if p is root).\"\"\"\n",
    "        raise NotImplementedError('must be implemented by subclass')\n",
    "        \n",
    "    def num_children(self, p):\n",
    "        \"\"\"Return the number of children that Position p has.\"\"\"\n",
    "        raise NotImplementedError('must be implemented by subclass')\n",
    "        \n",
    "    def children(self, p):\n",
    "        \"\"\"Generate an iteration of Positions representing p s children.\"\"\"\n",
    "        raise NotImplementedError('must be implemented by subclass')\n",
    "        \n",
    "    def __len__(self):\n",
    "        \"\"\"Return the total number of elements in the tree.\"\"\"\n",
    "        raise NotImplementedError('must be implemented by subclass')\n",
    "        \n",
    "    # ---------- concrete methods implemented in this class ----------\n",
    "    def is_root(self, p):\n",
    "        \"\"\"Return True if Position p represents the root of the tree.\"\"\"\n",
    "        return self.root() == p\n",
    "    \n",
    "    def is_leaf(self, p):\n",
    "        \"\"\"Return True if Position p does not have any children\"\"\"\n",
    "        return self.num_children() == 0\n",
    "    \n",
    "    def is_empty(self):\n",
    "        \"\"\"Return True if the tree is empty.\"\"\"\n",
    "        return len(self) == 0\n",
    "    \n",
    "    # ---------- height and depth ----------\n",
    "    def depth(self, p):\n",
    "        \"\"\"Return the number of levels separating Position p from the root.\"\"\"\n",
    "        if self.is_root(p):\n",
    "            return 0\n",
    "        else:\n",
    "            return 1 + self.depth(self.parent(p))\n",
    "    \n",
    "    def _height(self, p):\n",
    "        \"\"\"Return the height of the subtree rooted at Position p.\"\"\"\n",
    "        if self.is_leaf(p):\n",
    "            return 0\n",
    "        else:\n",
    "            return 1 + max(self._height(c) for c in self.children(p))   "
   ]
  },
  {
   "cell_type": "markdown",
   "metadata": {},
   "source": [
    "### Binary Tree Abstract base class"
   ]
  },
  {
   "cell_type": "code",
   "execution_count": 2,
   "metadata": {},
   "outputs": [],
   "source": [
    "class BinaryTree:\n",
    "    \"\"\"Abstract base class representing a binary tree structure.\"\"\"\n",
    "    \n",
    "    # --------------------- additional abstract methods ---------------------\n",
    "    def left(self, p):\n",
    "        \"\"\"Return a Position representing p's left child\"\"\"\n",
    "        raise NotImplementedError('must be implemented by subclass')\n",
    "        \n",
    "    def right(self, p):\n",
    "        \"\"\"Return a Position representing p's right child\"\"\"\n",
    "        raise NotImplementedError('must be implemented by subclass')\n",
    "        \n",
    "    # ---------- concrete methods implemented in this class ----------\n",
    "    def sibling(self, p):\n",
    "        \"\"\"Return a Position representing p s sibling (or None if no sibling).\"\"\"\n",
    "        parent = self.parent(p)\n",
    "        if parent is None:\n",
    "            return None\n",
    "        else:\n",
    "            if p == self.left(parent):\n",
    "                return self.right(parent)\n",
    "            else:\n",
    "                return self.left(parent)\n",
    "    def children(self, p):\n",
    "        \"\"\"Generate an iteration of Positions representing p s children.\"\"\"\n",
    "        if self.left(p) is not None:\n",
    "            yield self.left(p)\n",
    "        if self.right(p) is not None:\n",
    "            yield self.right(p)"
   ]
  },
  {
   "cell_type": "code",
   "execution_count": null,
   "metadata": {},
   "outputs": [],
   "source": [
    "class LinkedBinaryTree(BinaryTree):\n",
    "    \"\"\"Linked representation of a binary tree structure.\"\"\"\n",
    "    \n",
    "    class _Node:    # Lightweight, nonpublic class for storing a node.\n",
    "        __slots__ = '_element', '_parent', '_left', '_right'\n",
    "        def __init__(self, element, parent=None, left=None, right=None):\n",
    "            self._element = element\n",
    "            self._parent = parent\n",
    "            self._left = left\n",
    "            self._right = right\n",
    "    \n",
    "    class Position(BinaryTree.Position):\n",
    "        \"\"\"An abstraction representing the location of a single element.\"\"\"\n",
    "        def __init__(self, container, node):\n",
    "            \"\"\"Constructor should not be invoked by user\"\"\"\n",
    "            self._container = container\n",
    "            self._node = node\n",
    "        \n",
    "        def element(self):\n",
    "            return self._element\n",
    "        \n",
    "        def __eq__(self, other):\n",
    "            \"\"\"Return True if other is a Position representing the same location.\"\"\"\n",
    "            return type(other) is type(self) and other._node is self._node\n",
    "        \n",
    "    def _validate(self, p):\n",
    "        \"\"\"Return associated node, if position is valid.\"\"\"\n",
    "        if not isinstance(p, self.Position):\n",
    "            raise TypeError('p must be proper Position type')\n",
    "        if p._container is not self:\n",
    "            raise ValueError('p does not belong to this container')\n",
    "        if p._node._parent is p._node:\n",
    "            raise ValueError('p is no longer valid')\n",
    "        return p._node\n",
    "    \n",
    "    def _make_position(self, node):\n",
    "        \"\"\"Return Position instance for given node (or None if no node).\"\"\"\n",
    "        return self.Position(self, node) if node is not None else None\n",
    "    \n",
    "    #-------------------------- binary tree constructor --------------------------\n",
    "    def __init__(self):\n",
    "        \"\"\"Create an initially empty binary tree.\"\"\"\n",
    "        self._root = None\n",
    "        self._size = 0\n",
    "    #-------------------------- public accessors --------------------------\n",
    "    def __len__(self):\n",
    "        \"\"\"Return the total number of elements in the tree\"\"\"\n",
    "        return self._size\n",
    "    \n",
    "    def root(self):\n",
    "        \"\"\"Return the root Position of the tree (or None if tree is empty).\"\"\"\n",
    "        return self._make_position(self._root)\n",
    "    \n",
    "    def parent(self, p):\n",
    "        \"\"\"Return the Position of p's parent (or None if p is root).\"\"\"\n",
    "        node = self._validate(p)\n",
    "        return self._make_position(node._parent)\n",
    "    def left(self, p):\n",
    "        \"\"\"Return the Position of p's left child (or None if no left child).\"\"\"\n",
    "        node = self._validate(p)\n",
    "        return self.make_position(node._left)\n",
    "    def right(self, p):\n",
    "        \"\"\"Return the Position of p's right child (or None if no left child).\"\"\"\n",
    "        node = self._validate(p)\n",
    "        return self.make_position(node._right)    \n",
    "    def num_children(self, p):\n",
    "        \"\"\"Return the number of children of Position p.\"\"\"\n",
    "        node = self._validate(p)\n",
    "        count = 0 \n",
    "        if node._left is not None:\n",
    "            count += 1\n",
    "        if node._right is not None:\n",
    "            count += 1\n",
    "        return count\n",
    "    def _add_root(self, p):\n",
    "        \"\"\"Place element e at the root of an empty tree and return new Position. Raise ValueError if tree nonempty\"\"\"\n",
    "        if self._root is not None: raise ValueError('Root Exist')\n",
    "        self._size = 1\n",
    "        self._root = self.Node(e)\n",
    "        return self._make_position(self._root)\n",
    "    def _add_left(self, p, 3):\n",
    "        \"\"\"Create a new left child for Position p, storing element e.\n",
    "        Return the Position of new node. Raise ValueError if Position p is invalid or p already has a left child.\"\"\"\n",
    "        node = self._validate(p)\n",
    "        if node._left is not None: raise ValueError('Left child exists')\n",
    "        self._size += 1\n",
    "        node._left = self._Node(e, node)\n",
    "        return self._make_position(node._left)\n",
    "    def _add_left(self, p, 3):\n",
    "        node = self._validate(p)\n",
    "        if node._right is not None: raise ValueError('Left child exists')\n",
    "        self._size += 1\n",
    "        node._right = self._Node(e, node)\n",
    "        return self._make_position(node._right)\n",
    "    def _replace(self, p, e):\n",
    "        \"\"\"Replace the element at position p with e, and return old element.\"\"\"\n",
    "        node = self._validate(p)\n",
    "        old = node._element\n",
    "        node._element = e\n",
    "        return old\n",
    "    def _delete(self, p):\n",
    "        \"\"\"Delete the node at Position p, and replace it with its child, if any.\n",
    "        Return the element that had been stored at Position p.\n",
    "        Raise ValueError if Position p is invalid or p has two children.\"\"\"\n",
    "        node = self._validate(p)\n",
    "        if self.num_children(p) == 2: raise ValueError('p has two children')\n",
    "        child = node._left if node._left else node._right # might be None\n",
    "        if child is not None:\n",
    "            child._parent = node._parent # child s grandparent becomes parent\n",
    "        if node is self._root:\n",
    "            self._root = child # child becomes root\n",
    "        else:\n",
    "            parent = node._parent\n",
    "        if node is parent._left:\n",
    "            parent._left = child\n",
    "        else:\n",
    "            parent._right = child\n",
    "            self._size −= 1\n",
    "            node._parent = node # convention for deprecated node\n",
    "        return node._element\n",
    "    def attach(self, p, t1, t2):\n",
    "    \"\"\"Attach trees t1 and t2 as left and right subtrees of external p.\"\"\"\n",
    "        node = self._validate(p)\n",
    "        if not self.is_leaf(p): raise ValueError('position must be leaf')\n",
    "        if not type(self) is type(t1) is type(t2): # all 3 trees must be same type\n",
    "            raise TypeError('Tree types must match')\n",
    "        self._size += len(t1) + len(t2)\n",
    "        if not t1.is_empty( ): # attached t1 as left subtree of node\n",
    "            t1._root._parent = node\n",
    "            node._left = t1._root\n",
    "            t1._root = None # set t1 instance to empty\n",
    "            t1._size = 0\n",
    "        if not t2.is_empty( ): # attached t2 as right subtree of node\n",
    "            t2._root._parent = node\n",
    "            node._right = t2._root\n",
    "            t2._root = None # set t2 instance to empty\n",
    "            t2._size = 0"
   ]
  },
  {
   "cell_type": "code",
   "execution_count": null,
   "metadata": {},
   "outputs": [],
   "source": []
  }
 ],
 "metadata": {
  "kernelspec": {
   "display_name": "Python 3",
   "language": "python",
   "name": "python3"
  },
  "language_info": {
   "codemirror_mode": {
    "name": "ipython",
    "version": 3
   },
   "file_extension": ".py",
   "mimetype": "text/x-python",
   "name": "python",
   "nbconvert_exporter": "python",
   "pygments_lexer": "ipython3",
   "version": "3.7.1"
  }
 },
 "nbformat": 4,
 "nbformat_minor": 2
}
